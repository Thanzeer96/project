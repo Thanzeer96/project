{
 "cells": [
  {
   "cell_type": "code",
   "execution_count": 5,
   "id": "43259ab4-0167-4492-8d9b-187d7025ad32",
   "metadata": {},
   "outputs": [],
   "source": [
    "import pandas as pd\n",
    "import numpy as np\n",
    "\n",
    "file_path = (\"C:\\\\Users\\\\SHAFINA JALEEL\\\\OneDrive\\\\Desktop\\\\THANZEER\\\\Project\\\\New folder\\\\Crime_Data_from_2020_to_Present.csv\")  \n",
    "data = pd.read_csv(file_path)"
   ]
  },
  {
   "cell_type": "code",
   "execution_count": 9,
   "id": "bb5535ed-f6b4-47bb-8cfa-47578d491250",
   "metadata": {},
   "outputs": [
    {
     "name": "stdout",
     "output_type": "stream",
     "text": [
      "Dataset Overview:\n",
      "<class 'pandas.core.frame.DataFrame'>\n",
      "RangeIndex: 10087 entries, 0 to 10086\n",
      "Data columns (total 27 columns):\n",
      " #   Column          Non-Null Count  Dtype  \n",
      "---  ------          --------------  -----  \n",
      " 0   DR_NO           10087 non-null  int64  \n",
      " 1   Date Rptd       10087 non-null  object \n",
      " 2   Time            10087 non-null  object \n",
      " 3   AREA            10087 non-null  int64  \n",
      " 4   AREA NAME       10087 non-null  object \n",
      " 5   Rpt Dist No     10087 non-null  int64  \n",
      " 6   Part 1-2        10087 non-null  int64  \n",
      " 7   Crm Cd          10087 non-null  int64  \n",
      " 8   Crm Cd Desc     10087 non-null  object \n",
      " 9   Mocodes         8705 non-null   object \n",
      " 10  Vict Age        10087 non-null  int64  \n",
      " 11  Vict Sex        8753 non-null   object \n",
      " 12  Vict Descent    8751 non-null   object \n",
      " 13  Premis Cd       10087 non-null  int64  \n",
      " 14  Premis Desc     10079 non-null  object \n",
      " 15  Weapon Used Cd  3804 non-null   float64\n",
      " 16  Weapon Desc     3804 non-null   object \n",
      " 17  Status          10087 non-null  object \n",
      " 18  Status Desc     10087 non-null  object \n",
      " 19  Crm Cd 1        10086 non-null  float64\n",
      " 20  Crm Cd 2        850 non-null    float64\n",
      " 21  Crm Cd 3        21 non-null     float64\n",
      " 22  Crm Cd 4        1 non-null      float64\n",
      " 23  LOCATION        10087 non-null  object \n",
      " 24  Cross Street    1915 non-null   object \n",
      " 25  LAT             10087 non-null  float64\n",
      " 26  LON             10087 non-null  float64\n",
      "dtypes: float64(7), int64(7), object(13)\n",
      "memory usage: 2.1+ MB\n",
      "None\n",
      "\n",
      "Summary statistics:\n",
      "              DR_NO          AREA   Rpt Dist No      Part 1-2        Crm Cd  \\\n",
      "count  1.008700e+04  10087.000000  10087.000000  10087.000000  10087.000000   \n",
      "mean   2.006716e+08      6.608010    706.407455      1.408447    510.264796   \n",
      "std    3.838794e+05      3.698187    368.268242      0.491571    209.528602   \n",
      "min    1.903265e+08      1.000000    101.000000      1.000000    110.000000   \n",
      "25%    2.003175e+08      3.000000    379.000000      1.000000    330.000000   \n",
      "50%    2.007044e+08      7.000000    701.000000      1.000000    510.000000   \n",
      "75%    2.010084e+08     10.000000   1023.000000      2.000000    626.000000   \n",
      "max    2.013099e+08     13.000000   1395.000000      2.000000    956.000000   \n",
      "\n",
      "           Vict Age     Premis Cd  Weapon Used Cd      Crm Cd 1    Crm Cd 2  \\\n",
      "count  10087.000000  10087.000000     3804.000000  10086.000000  850.000000   \n",
      "mean      29.489739    289.483097      363.954259    509.895400  953.821176   \n",
      "std       21.765795    213.166089      121.063440    209.234669  114.484633   \n",
      "min        0.000000    101.000000      101.000000    110.000000  230.000000   \n",
      "25%        2.000000    101.000000      310.000000    330.000000  998.000000   \n",
      "50%       30.000000    140.000000      400.000000    510.000000  998.000000   \n",
      "75%       45.000000    501.000000      400.000000    626.000000  998.000000   \n",
      "max       99.000000    971.000000      515.000000    956.000000  999.000000   \n",
      "\n",
      "         Crm Cd 3  Crm Cd 4           LAT           LON  \n",
      "count   21.000000       1.0  10087.000000  10087.000000  \n",
      "mean   994.761905     998.0     33.920802   -117.890335  \n",
      "std     14.838817       NaN      2.060647      7.154015  \n",
      "min    930.000000     998.0      0.000000   -118.565100  \n",
      "25%    998.000000     998.0     34.017350   -118.361400  \n",
      "50%    998.000000     998.0     34.051100   -118.300300  \n",
      "75%    998.000000     998.0     34.096150   -118.264300  \n",
      "max    998.000000     998.0     34.221200      0.000000  \n"
     ]
    }
   ],
   "source": [
    "print(\"Dataset Overview:\")\n",
    "print(data.info())\n",
    "print(\"\\nSummary statistics:\")\n",
    "print(data.describe())"
   ]
  },
  {
   "cell_type": "code",
   "execution_count": 11,
   "id": "6dfdfa69-8745-44bd-936a-fc923e058d26",
   "metadata": {},
   "outputs": [
    {
     "name": "stdout",
     "output_type": "stream",
     "text": [
      "\n",
      "Missing Data Count:\n",
      "DR_NO                 0\n",
      "Date Rptd             0\n",
      "Time                  0\n",
      "AREA                  0\n",
      "AREA NAME             0\n",
      "Rpt Dist No           0\n",
      "Part 1-2              0\n",
      "Crm Cd                0\n",
      "Crm Cd Desc           0\n",
      "Mocodes            1382\n",
      "Vict Age              0\n",
      "Vict Sex           1334\n",
      "Vict Descent       1336\n",
      "Premis Cd             0\n",
      "Premis Desc           8\n",
      "Weapon Used Cd     6283\n",
      "Weapon Desc        6283\n",
      "Status                0\n",
      "Status Desc           0\n",
      "Crm Cd 1              1\n",
      "Crm Cd 2           9237\n",
      "Crm Cd 3          10066\n",
      "Crm Cd 4          10086\n",
      "LOCATION              0\n",
      "Cross Street       8172\n",
      "LAT                   0\n",
      "LON                   0\n",
      "dtype: int64\n"
     ]
    }
   ],
   "source": [
    "print(\"\\nMissing Data Count:\")\n",
    "print(data.isnull().sum())"
   ]
  },
  {
   "cell_type": "code",
   "execution_count": 13,
   "id": "8187e255-18f8-45e9-935d-f544112da9aa",
   "metadata": {},
   "outputs": [],
   "source": [
    "threshold = 0.5  \n",
    "data = data.dropna(thresh=int(data.shape[0] * threshold), axis=1)\n",
    "num_cols = data.select_dtypes(include=['float64', 'int64']).columns\n",
    "data[num_cols] = data[num_cols].fillna(data[num_cols].mean())"
   ]
  },
  {
   "cell_type": "code",
   "execution_count": 15,
   "id": "f056507d-790d-4d62-8543-ab8945acde2f",
   "metadata": {},
   "outputs": [
    {
     "name": "stdout",
     "output_type": "stream",
     "text": [
      "\n",
      "Missing Data After Handling:\n",
      "DR_NO           0\n",
      "Date Rptd       0\n",
      "Time            0\n",
      "AREA            0\n",
      "AREA NAME       0\n",
      "Rpt Dist No     0\n",
      "Part 1-2        0\n",
      "Crm Cd          0\n",
      "Crm Cd Desc     0\n",
      "Mocodes         0\n",
      "Vict Age        0\n",
      "Vict Sex        0\n",
      "Vict Descent    0\n",
      "Premis Cd       0\n",
      "Premis Desc     0\n",
      "Status          0\n",
      "Status Desc     0\n",
      "Crm Cd 1        0\n",
      "LOCATION        0\n",
      "LAT             0\n",
      "LON             0\n",
      "dtype: int64\n"
     ]
    }
   ],
   "source": [
    "cat_cols = data.select_dtypes(include=['object']).columns\n",
    "data[cat_cols] = data[cat_cols].fillna(data[cat_cols].mode().iloc[0])\n",
    "\n",
    "print(\"\\nMissing Data After Handling:\")\n",
    "print(data.isnull().sum())"
   ]
  },
  {
   "cell_type": "code",
   "execution_count": 17,
   "id": "95b50896-171f-4b60-b4e9-a60c3817a192",
   "metadata": {},
   "outputs": [],
   "source": [
    "from sklearn.preprocessing import StandardScaler\n",
    "scaler = StandardScaler()"
   ]
  },
  {
   "cell_type": "code",
   "execution_count": 19,
   "id": "5d4f7df6-a7a2-47bb-b5c2-1132ff4a7c78",
   "metadata": {},
   "outputs": [],
   "source": [
    "data[num_cols] = scaler.fit_transform(data[num_cols])"
   ]
  },
  {
   "cell_type": "code",
   "execution_count": 27,
   "id": "ba149a68-5183-45ee-9121-55e02c1528a6",
   "metadata": {},
   "outputs": [
    {
     "name": "stdout",
     "output_type": "stream",
     "text": [
      "Preprocessed data saved to C:\\Users\\SHAFINA JALEEL\\OneDrive\\Desktop\\THANZEER\\Project\\New folder\\Crime_Data_from_2020_to_Present.csv\n"
     ]
    }
   ],
   "source": [
    "output_path = \"C:\\\\Users\\\\SHAFINA JALEEL\\\\OneDrive\\\\Desktop\\\\THANZEER\\\\Project\\\\New folder\\\\Crime_Data_from_2020_to_Present.csv\"\n",
    "data.to_csv(output_path, index=False)\n",
    "print(f\"Preprocessed data saved to {output_path}\")"
   ]
  },
  {
   "cell_type": "code",
   "execution_count": 33,
   "id": "4b36417f-1f4b-48b3-870a-c1bf0923623e",
   "metadata": {},
   "outputs": [
    {
     "name": "stdout",
     "output_type": "stream",
     "text": [
      "<class 'pandas.core.frame.DataFrame'>\n",
      "RangeIndex: 10087 entries, 0 to 10086\n",
      "Data columns (total 21 columns):\n",
      " #   Column        Non-Null Count  Dtype  \n",
      "---  ------        --------------  -----  \n",
      " 0   DR_NO         10087 non-null  float64\n",
      " 1   Date Rptd     10087 non-null  object \n",
      " 2   Time          10087 non-null  object \n",
      " 3   AREA          10087 non-null  float64\n",
      " 4   AREA NAME     10087 non-null  object \n",
      " 5   Rpt Dist No   10087 non-null  float64\n",
      " 6   Part 1-2      10087 non-null  float64\n",
      " 7   Crm Cd        10087 non-null  float64\n",
      " 8   Crm Cd Desc   10087 non-null  object \n",
      " 9   Mocodes       10087 non-null  object \n",
      " 10  Vict Age      10087 non-null  float64\n",
      " 11  Vict Sex      10087 non-null  object \n",
      " 12  Vict Descent  10087 non-null  object \n",
      " 13  Premis Cd     10087 non-null  float64\n",
      " 14  Premis Desc   10087 non-null  object \n",
      " 15  Status        10087 non-null  object \n",
      " 16  Status Desc   10087 non-null  object \n",
      " 17  Crm Cd 1      10087 non-null  float64\n",
      " 18  LOCATION      10087 non-null  object \n",
      " 19  LAT           10087 non-null  float64\n",
      " 20  LON           10087 non-null  float64\n",
      "dtypes: float64(10), object(11)\n",
      "memory usage: 1.6+ MB\n"
     ]
    },
    {
     "data": {
      "text/html": [
       "<div>\n",
       "<style scoped>\n",
       "    .dataframe tbody tr th:only-of-type {\n",
       "        vertical-align: middle;\n",
       "    }\n",
       "\n",
       "    .dataframe tbody tr th {\n",
       "        vertical-align: top;\n",
       "    }\n",
       "\n",
       "    .dataframe thead th {\n",
       "        text-align: right;\n",
       "    }\n",
       "</style>\n",
       "<table border=\"1\" class=\"dataframe\">\n",
       "  <thead>\n",
       "    <tr style=\"text-align: right;\">\n",
       "      <th></th>\n",
       "      <th>DR_NO</th>\n",
       "      <th>Date Rptd</th>\n",
       "      <th>Time</th>\n",
       "      <th>AREA</th>\n",
       "      <th>AREA NAME</th>\n",
       "      <th>Rpt Dist No</th>\n",
       "      <th>Part 1-2</th>\n",
       "      <th>Crm Cd</th>\n",
       "      <th>Crm Cd Desc</th>\n",
       "      <th>Mocodes</th>\n",
       "      <th>...</th>\n",
       "      <th>Vict Sex</th>\n",
       "      <th>Vict Descent</th>\n",
       "      <th>Premis Cd</th>\n",
       "      <th>Premis Desc</th>\n",
       "      <th>Status</th>\n",
       "      <th>Status Desc</th>\n",
       "      <th>Crm Cd 1</th>\n",
       "      <th>LOCATION</th>\n",
       "      <th>LAT</th>\n",
       "      <th>LON</th>\n",
       "    </tr>\n",
       "  </thead>\n",
       "  <tbody>\n",
       "    <tr>\n",
       "      <th>0</th>\n",
       "      <td>-26.950295</td>\n",
       "      <td>03-01-2020</td>\n",
       "      <td>00:00:00</td>\n",
       "      <td>0.106000</td>\n",
       "      <td>Wilshire</td>\n",
       "      <td>0.210706</td>\n",
       "      <td>-0.830942</td>\n",
       "      <td>-0.001264</td>\n",
       "      <td>VEHICLE - STOLEN</td>\n",
       "      <td>344</td>\n",
       "      <td>...</td>\n",
       "      <td>M</td>\n",
       "      <td>O</td>\n",
       "      <td>-0.884252</td>\n",
       "      <td>STREET</td>\n",
       "      <td>AA</td>\n",
       "      <td>Adult Arrest</td>\n",
       "      <td>0.000500</td>\n",
       "      <td>1900 S  LONGWOOD                     AV</td>\n",
       "      <td>0.056634</td>\n",
       "      <td>-0.064340</td>\n",
       "    </tr>\n",
       "    <tr>\n",
       "      <th>1</th>\n",
       "      <td>-1.471556</td>\n",
       "      <td>02-09-2020</td>\n",
       "      <td>00:00:00</td>\n",
       "      <td>-1.516497</td>\n",
       "      <td>Central</td>\n",
       "      <td>-1.424053</td>\n",
       "      <td>-0.830942</td>\n",
       "      <td>-0.860378</td>\n",
       "      <td>BURGLARY FROM VEHICLE</td>\n",
       "      <td>1822 1402 0344</td>\n",
       "      <td>...</td>\n",
       "      <td>M</td>\n",
       "      <td>O</td>\n",
       "      <td>-0.757583</td>\n",
       "      <td>BUS STOP/LAYOVER (ALSO QUERY 124)</td>\n",
       "      <td>IC</td>\n",
       "      <td>Invest Cont</td>\n",
       "      <td>-0.859863</td>\n",
       "      <td>1000 S  FLOWER                       ST</td>\n",
       "      <td>0.059983</td>\n",
       "      <td>-0.052066</td>\n",
       "    </tr>\n",
       "    <tr>\n",
       "      <th>2</th>\n",
       "      <td>-0.915352</td>\n",
       "      <td>11-11-2020</td>\n",
       "      <td>00:00:00</td>\n",
       "      <td>-0.975664</td>\n",
       "      <td>Southwest</td>\n",
       "      <td>-0.951548</td>\n",
       "      <td>-0.830942</td>\n",
       "      <td>-0.144449</td>\n",
       "      <td>BIKE - STOLEN</td>\n",
       "      <td>0344 1251</td>\n",
       "      <td>...</td>\n",
       "      <td>X</td>\n",
       "      <td>X</td>\n",
       "      <td>0.997004</td>\n",
       "      <td>MULTI-UNIT DWELLING (APARTMENT, DUPLEX, ETC)</td>\n",
       "      <td>IC</td>\n",
       "      <td>Invest Cont</td>\n",
       "      <td>-0.142894</td>\n",
       "      <td>1400 W  37TH                         ST</td>\n",
       "      <td>0.048627</td>\n",
       "      <td>-0.057294</td>\n",
       "    </tr>\n",
       "    <tr>\n",
       "      <th>3</th>\n",
       "      <td>0.613744</td>\n",
       "      <td>05-10-2023</td>\n",
       "      <td>00:00:00</td>\n",
       "      <td>0.646833</td>\n",
       "      <td>Van Nuys</td>\n",
       "      <td>0.699505</td>\n",
       "      <td>-0.830942</td>\n",
       "      <td>-0.798331</td>\n",
       "      <td>SHOPLIFTING-GRAND THEFT ($950.01 &amp; OVER)</td>\n",
       "      <td>0325 1501</td>\n",
       "      <td>...</td>\n",
       "      <td>M</td>\n",
       "      <td>O</td>\n",
       "      <td>0.541937</td>\n",
       "      <td>CLOTHING STORE</td>\n",
       "      <td>IC</td>\n",
       "      <td>Invest Cont</td>\n",
       "      <td>-0.797726</td>\n",
       "      <td>14000    RIVERSIDE                    DR</td>\n",
       "      <td>0.114920</td>\n",
       "      <td>-0.076655</td>\n",
       "    </tr>\n",
       "    <tr>\n",
       "      <th>4</th>\n",
       "      <td>-0.674837</td>\n",
       "      <td>09-09-2020</td>\n",
       "      <td>00:00:00</td>\n",
       "      <td>-0.705248</td>\n",
       "      <td>Hollenbeck</td>\n",
       "      <td>-0.796762</td>\n",
       "      <td>-0.830942</td>\n",
       "      <td>-0.001264</td>\n",
       "      <td>VEHICLE - STOLEN</td>\n",
       "      <td>344</td>\n",
       "      <td>...</td>\n",
       "      <td>M</td>\n",
       "      <td>H</td>\n",
       "      <td>-0.884252</td>\n",
       "      <td>STREET</td>\n",
       "      <td>IC</td>\n",
       "      <td>Invest Cont</td>\n",
       "      <td>0.000500</td>\n",
       "      <td>200 E  AVENUE 28</td>\n",
       "      <td>0.078231</td>\n",
       "      <td>-0.045105</td>\n",
       "    </tr>\n",
       "  </tbody>\n",
       "</table>\n",
       "<p>5 rows × 21 columns</p>\n",
       "</div>"
      ],
      "text/plain": [
       "       DR_NO   Date Rptd      Time      AREA   AREA NAME  Rpt Dist No  \\\n",
       "0 -26.950295  03-01-2020  00:00:00  0.106000    Wilshire     0.210706   \n",
       "1  -1.471556  02-09-2020  00:00:00 -1.516497     Central    -1.424053   \n",
       "2  -0.915352  11-11-2020  00:00:00 -0.975664   Southwest    -0.951548   \n",
       "3   0.613744  05-10-2023  00:00:00  0.646833    Van Nuys     0.699505   \n",
       "4  -0.674837  09-09-2020  00:00:00 -0.705248  Hollenbeck    -0.796762   \n",
       "\n",
       "   Part 1-2    Crm Cd                               Crm Cd Desc  \\\n",
       "0 -0.830942 -0.001264                          VEHICLE - STOLEN   \n",
       "1 -0.830942 -0.860378                     BURGLARY FROM VEHICLE   \n",
       "2 -0.830942 -0.144449                             BIKE - STOLEN   \n",
       "3 -0.830942 -0.798331  SHOPLIFTING-GRAND THEFT ($950.01 & OVER)   \n",
       "4 -0.830942 -0.001264                          VEHICLE - STOLEN   \n",
       "\n",
       "          Mocodes  ...  Vict Sex Vict Descent Premis Cd  \\\n",
       "0             344  ...         M            O -0.884252   \n",
       "1  1822 1402 0344  ...         M            O -0.757583   \n",
       "2       0344 1251  ...         X            X  0.997004   \n",
       "3       0325 1501  ...         M            O  0.541937   \n",
       "4             344  ...         M            H -0.884252   \n",
       "\n",
       "                                    Premis Desc Status   Status Desc  \\\n",
       "0                                        STREET     AA  Adult Arrest   \n",
       "1             BUS STOP/LAYOVER (ALSO QUERY 124)     IC   Invest Cont   \n",
       "2  MULTI-UNIT DWELLING (APARTMENT, DUPLEX, ETC)     IC   Invest Cont   \n",
       "3                                CLOTHING STORE     IC   Invest Cont   \n",
       "4                                        STREET     IC   Invest Cont   \n",
       "\n",
       "   Crm Cd 1                                  LOCATION       LAT       LON  \n",
       "0  0.000500   1900 S  LONGWOOD                     AV  0.056634 -0.064340  \n",
       "1 -0.859863   1000 S  FLOWER                       ST  0.059983 -0.052066  \n",
       "2 -0.142894   1400 W  37TH                         ST  0.048627 -0.057294  \n",
       "3 -0.797726  14000    RIVERSIDE                    DR  0.114920 -0.076655  \n",
       "4  0.000500                          200 E  AVENUE 28  0.078231 -0.045105  \n",
       "\n",
       "[5 rows x 21 columns]"
      ]
     },
     "execution_count": 33,
     "metadata": {},
     "output_type": "execute_result"
    }
   ],
   "source": [
    "data.info()\n",
    "data.head()"
   ]
  },
  {
   "cell_type": "code",
   "execution_count": 35,
   "id": "7296a76e-7bff-483c-aba8-a5367ab93775",
   "metadata": {},
   "outputs": [
    {
     "data": {
      "image/png": "[encoded data removed]",
      "text/plain": [
       "<Figure size 1000x600 with 1 Axes>"
      ]
     },
     "metadata": {},
     "output_type": "display_data"
    }
   ],
   "source": [
    "import matplotlib.pyplot as plt\n",
    "import seaborn as sns\n",
    "\n",
    "plt.figure(figsize=(10,6))\n",
    "sns.boxplot(data=data)\n",
    "plt.xticks(rotation=90)\n",
    "plt.title(\"Boxplot to Identify Outliers\")\n",
    "plt.show()"
   ]
  },
  {
   "cell_type": "code",
   "execution_count": 37,
   "id": "dc7c09a5-8c5a-4e3f-a054-60b47f565fa2",
   "metadata": {},
   "outputs": [
    {
     "name": "stdout",
     "output_type": "stream",
     "text": [
      "Dataset Info:\n",
      "<class 'pandas.core.frame.DataFrame'>\n",
      "RangeIndex: 10087 entries, 0 to 10086\n",
      "Data columns (total 21 columns):\n",
      " #   Column        Non-Null Count  Dtype  \n",
      "---  ------        --------------  -----  \n",
      " 0   DR_NO         10087 non-null  float64\n",
      " 1   Date Rptd     10087 non-null  object \n",
      " 2   Time          10087 non-null  object \n",
      " 3   AREA          10087 non-null  float64\n",
      " 4   AREA NAME     10087 non-null  object \n",
      " 5   Rpt Dist No   10087 non-null  float64\n",
      " 6   Part 1-2      10087 non-null  float64\n",
      " 7   Crm Cd        10087 non-null  float64\n",
      " 8   Crm Cd Desc   10087 non-null  object \n",
      " 9   Mocodes       10087 non-null  object \n",
      " 10  Vict Age      10087 non-null  float64\n",
      " 11  Vict Sex      10087 non-null  object \n",
      " 12  Vict Descent  10087 non-null  object \n",
      " 13  Premis Cd     10087 non-null  float64\n",
      " 14  Premis Desc   10087 non-null  object \n",
      " 15  Status        10087 non-null  object \n",
      " 16  Status Desc   10087 non-null  object \n",
      " 17  Crm Cd 1      10087 non-null  float64\n",
      " 18  LOCATION      10087 non-null  object \n",
      " 19  LAT           10087 non-null  float64\n",
      " 20  LON           10087 non-null  float64\n",
      "dtypes: float64(10), object(11)\n",
      "memory usage: 1.6+ MB\n",
      "None\n",
      "       DR_NO   Date Rptd      Time      AREA   AREA NAME  Rpt Dist No  \\\n",
      "0 -26.950295  03-01-2020  00:00:00  0.106000    Wilshire     0.210706   \n",
      "1  -1.471556  02-09-2020  00:00:00 -1.516497     Central    -1.424053   \n",
      "2  -0.915352  11-11-2020  00:00:00 -0.975664   Southwest    -0.951548   \n",
      "3   0.613744  05-10-2023  00:00:00  0.646833    Van Nuys     0.699505   \n",
      "4  -0.674837  09-09-2020  00:00:00 -0.705248  Hollenbeck    -0.796762   \n",
      "\n",
      "   Part 1-2    Crm Cd                               Crm Cd Desc  \\\n",
      "0 -0.830942 -0.001264                          VEHICLE - STOLEN   \n",
      "1 -0.830942 -0.860378                     BURGLARY FROM VEHICLE   \n",
      "2 -0.830942 -0.144449                             BIKE - STOLEN   \n",
      "3 -0.830942 -0.798331  SHOPLIFTING-GRAND THEFT ($950.01 & OVER)   \n",
      "4 -0.830942 -0.001264                          VEHICLE - STOLEN   \n",
      "\n",
      "          Mocodes  ...  Vict Sex Vict Descent Premis Cd  \\\n",
      "0             344  ...         M            O -0.884252   \n",
      "1  1822 1402 0344  ...         M            O -0.757583   \n",
      "2       0344 1251  ...         X            X  0.997004   \n",
      "3       0325 1501  ...         M            O  0.541937   \n",
      "4             344  ...         M            H -0.884252   \n",
      "\n",
      "                                    Premis Desc Status   Status Desc  \\\n",
      "0                                        STREET     AA  Adult Arrest   \n",
      "1             BUS STOP/LAYOVER (ALSO QUERY 124)     IC   Invest Cont   \n",
      "2  MULTI-UNIT DWELLING (APARTMENT, DUPLEX, ETC)     IC   Invest Cont   \n",
      "3                                CLOTHING STORE     IC   Invest Cont   \n",
      "4                                        STREET     IC   Invest Cont   \n",
      "\n",
      "   Crm Cd 1                                  LOCATION       LAT       LON  \n",
      "0  0.000500   1900 S  LONGWOOD                     AV  0.056634 -0.064340  \n",
      "1 -0.859863   1000 S  FLOWER                       ST  0.059983 -0.052066  \n",
      "2 -0.142894   1400 W  37TH                         ST  0.048627 -0.057294  \n",
      "3 -0.797726  14000    RIVERSIDE                    DR  0.114920 -0.076655  \n",
      "4  0.000500                          200 E  AVENUE 28  0.078231 -0.045105  \n",
      "\n",
      "[5 rows x 21 columns]\n"
     ]
    }
   ],
   "source": [
    "import matplotlib.pyplot as plt\n",
    "import seaborn as sns\n",
    "from sklearn.model_selection import train_test_split\n",
    "from sklearn.ensemble import RandomForestClassifier\n",
    "from sklearn.metrics import accuracy_score, classification_report\n",
    "file_path = \"Crime_Data_from_2020_to_Present.csv\"\n",
    "data = pd.read_csv(\"C:\\\\Users\\\\SHAFINA JALEEL\\\\OneDrive\\\\Desktop\\\\THANZEER\\\\Project\\\\New folder\\\\Crime_Data_from_2020_to_Present.csv\")\n",
    "print(\"Dataset Info:\")\n",
    "print(data.info())\n",
    "print(data.head())"
   ]
  },
  {
   "cell_type": "code",
   "execution_count": 46,
   "id": "f5a4dd44-ee68-4fd0-913c-55d5cce03c10",
   "metadata": {},
   "outputs": [
    {
     "name": "stdout",
     "output_type": "stream",
     "text": [
      "Columns in dataset: Index(['DR_NO', 'Date', 'Time', 'AREA', 'AREA NAME', 'Rpt Dist No', 'Part 1-2',\n",
      "       'Crm Cd', 'Crm Cd Desc', 'Mocodes', 'Vict Age', 'Vict Sex',\n",
      "       'Vict Descent', 'Premis Cd', 'Premis Desc', 'Status', 'Status Desc',\n",
      "       'Crm Cd 1', 'LOCATION', 'LAT', 'LON', 'Year', 'Month', 'Day'],\n",
      "      dtype='object')\n"
     ]
    }
   ],
   "source": [
    "print(\"Columns in dataset:\", data.columns)\n",
    "if 'Date Rptd' in data.columns:\n",
    "    data.rename(columns={'Date Rptd': 'Date'}, inplace=True)\n",
    "data['Date'] = pd.to_datetime(data['Date'], errors='coerce')\n",
    "data['Year'] = data['Date'].dt.year\n",
    "data['Month'] = data['Date'].dt.month\n",
    "data['Day'] = data['Date'].dt.day\n",
    "data['Hour'] = pd.to_datetime(data['Time'], format='%H%M', errors='coerce').dt.hour\n",
    "data = data.ffill()\n",
    "data.dropna(subset=['LAT', 'LON'], inplace=True)"
   ]
  },
  {
   "cell_type": "code",
   "execution_count": 48,
   "id": "9fd133d1-04aa-439c-af06-9a22c8a27d72",
   "metadata": {},
   "outputs": [
    {
     "data": {
      "image/png": "[encoded data removed]",
      "text/plain": [
       "<Figure size 1000x500 with 1 Axes>"
      ]
     },
     "metadata": {},
     "output_type": "display_data"
    },
    {
     "data": {
      "image/png": "[encoded data removed]",
      "text/plain": [
       "<Figure size 1200x500 with 1 Axes>"
      ]
     },
     "metadata": {},
     "output_type": "display_data"
    }
   ],
   "source": [
    "plt.figure(figsize=(10, 5))\n",
    "sns.histplot(data['Hour'], bins=24, kde=True)\n",
    "plt.title(\"Crime Occurrence by Hour\")\n",
    "plt.xlabel(\"Hour of the Day\")\n",
    "plt.ylabel(\"Number of Crimes\")\n",
    "plt.show()\n",
    "plt.figure(figsize=(12, 5))\n",
    "sns.countplot(y=data['Crm Cd Desc'], order=data['Crm Cd Desc'].value_counts().index[:10])\n",
    "plt.title(\"Top 10 Most Frequent Crimes\")\n",
    "plt.show()"
   ]
  },
  {
   "cell_type": "code",
   "execution_count": 50,
   "id": "44586efc-1958-47b0-b23c-2dff1e178ea7",
   "metadata": {},
   "outputs": [
    {
     "name": "stdout",
     "output_type": "stream",
     "text": [
      "Training Set Shape: (8069, 5)\n",
      "Test Set Shape: (2018, 5)\n"
     ]
    }
   ],
   "source": [
    "features = ['LAT', 'LON', 'Hour', 'Month', 'Day']\n",
    "target = 'Crm Cd'  \n",
    "data = data.dropna(subset=[target])\n",
    "data[target] = data[target].astype(int)\n",
    "X = data[features]\n",
    "y = data[target]\n",
    "X_train, X_test, y_train, y_test = train_test_split(X, y, test_size=0.2, random_state=42)\n",
    "print(\"Training Set Shape:\", X_train.shape)\n",
    "print(\"Test Set Shape:\", X_test.shape)"
   ]
  },
  {
   "cell_type": "code",
   "execution_count": 52,
   "id": "7d7597d0-a9ed-42ea-806b-668135b1526b",
   "metadata": {},
   "outputs": [
    {
     "name": "stdout",
     "output_type": "stream",
     "text": [
      "Model Accuracy: 0.61\n",
      "Classification Report:\n",
      "               precision    recall  f1-score   support\n",
      "\n",
      "          -1       0.23      0.07      0.10       267\n",
      "           0       0.65      0.93      0.76      1290\n",
      "           1       0.29      0.07      0.11       371\n",
      "           2       0.00      0.00      0.00        90\n",
      "\n",
      "    accuracy                           0.61      2018\n",
      "   macro avg       0.29      0.27      0.25      2018\n",
      "weighted avg       0.50      0.61      0.52      2018\n",
      "\n"
     ]
    }
   ],
   "source": [
    "model = RandomForestClassifier(n_estimators=100, random_state=42)\n",
    "model.fit(X_train, y_train)\n",
    "y_pred = model.predict(X_test)\n",
    "accuracy = accuracy_score(y_test, y_pred)\n",
    "print(f\"Model Accuracy: {accuracy:.2f}\")\n",
    "print(\"Classification Report:\\n\", classification_report(y_test, y_pred))"
   ]
  },
  {
   "cell_type": "code",
   "execution_count": 54,
   "id": "b7c33629-8756-483c-a0df-b8188e30e054",
   "metadata": {},
   "outputs": [
    {
     "name": "stdout",
     "output_type": "stream",
     "text": [
      "Top 10 High-Risk Crime Locations:\n",
      "            LAT       LON  Hour  Month  Day  Crime Risk\n",
      "4573  0.119482 -0.088062   NaN      9   24        0.98\n",
      "5515  0.058139 -0.080094   NaN      6    1        0.98\n",
      "8570  0.134332 -0.082414   NaN      9   17        0.98\n",
      "9252  0.059352 -0.079619   NaN      9    1        0.98\n",
      "8286  0.065030 -0.075663   NaN     11   23        0.97\n",
      "5186  0.122054 -0.085993   NaN      4    4        0.97\n",
      "7946  0.059643 -0.051423   NaN      8   23        0.97\n",
      "960   0.111960 -0.085462   NaN      1   18        0.97\n",
      "6939  0.091091 -0.043441   NaN     11    9        0.96\n",
      "3397  0.063041 -0.052276   NaN     11   11        0.96\n"
     ]
    }
   ],
   "source": [
    "X_test['Crime Risk'] = model.predict_proba(X_test).max(axis=1)\n",
    "\n",
    "high_risk = X_test.sort_values(by='Crime Risk', ascending=False).head(10)\n",
    "print(\"Top 10 High-Risk Crime Locations:\\n\", high_risk)"
   ]
  },
  {
   "cell_type": "code",
   "execution_count": null,
   "id": "7949c9f2-a4bb-4d30-9cd6-8b67bfe8ebdc",
   "metadata": {},
   "outputs": [],
   "source": []
  }
 ],
 "metadata": {
  "kernelspec": {
   "display_name": "Python 3 (ipykernel)",
   "language": "python",
   "name": "python3"
  },
  "language_info": {
   "codemirror_mode": {
    "name": "ipython",
    "version": 3
   },
   "file_extension": ".py",
   "mimetype": "text/x-python",
   "name": "python",
   "nbconvert_exporter": "python",
   "pygments_lexer": "ipython3",
   "version": "3.12.7"
  }
 },
 "nbformat": 4,
 "nbformat_minor": 5
}
