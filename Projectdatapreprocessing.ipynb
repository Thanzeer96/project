{
 "cells": [
  {
   "cell_type": "code",
   "execution_count": 5,
   "id": "695bffa7-1068-4f76-8777-2476a50dead3",
   "metadata": {},
   "outputs": [],
   "source": [
    "import pandas as pd\n",
    "import numpy as np\n",
    "\n",
    "file_path = \"C:\\\\Users\\\\SHAFINA JALEEL\\\\OneDrive\\\\Desktop\\\\THANZEER\\\\Project\\\\Crime_Data_from_2020_to_Present.csv\"  \n",
    "data = pd.read_csv(file_path)\n",
    "\n"
   ]
  },
  {
   "cell_type": "code",
   "execution_count": 9,
   "id": "252c678f-7e6e-4ef8-a64c-bfe9a22e3ef4",
   "metadata": {},
   "outputs": [
    {
     "name": "stdout",
     "output_type": "stream",
     "text": [
      "Dataset Overview:\n",
      "<class 'pandas.core.frame.DataFrame'>\n",
      "RangeIndex: 1003448 entries, 0 to 1003447\n",
      "Data columns (total 28 columns):\n",
      " #   Column          Non-Null Count    Dtype  \n",
      "---  ------          --------------    -----  \n",
      " 0   DR_NO           1003448 non-null  int64  \n",
      " 1   Date Rptd       1003448 non-null  object \n",
      " 2   DATE OCC        1003448 non-null  object \n",
      " 3   TIME OCC        1003448 non-null  int64  \n",
      " 4   AREA            1003448 non-null  int64  \n",
      " 5   AREA NAME       1003448 non-null  object \n",
      " 6   Rpt Dist No     1003448 non-null  int64  \n",
      " 7   Part 1-2        1003448 non-null  int64  \n",
      " 8   Crm Cd          1003448 non-null  int64  \n",
      " 9   Crm Cd Desc     1003448 non-null  object \n",
      " 10  Mocodes         851881 non-null   object \n",
      " 11  Vict Age        1003448 non-null  int64  \n",
      " 12  Vict Sex        858856 non-null   object \n",
      " 13  Vict Descent    858844 non-null   object \n",
      " 14  Premis Cd       1003432 non-null  float64\n",
      " 15  Premis Desc     1002860 non-null  object \n",
      " 16  Weapon Used Cd  327140 non-null   float64\n",
      " 17  Weapon Desc     327140 non-null   object \n",
      " 18  Status          1003447 non-null  object \n",
      " 19  Status Desc     1003448 non-null  object \n",
      " 20  Crm Cd 1        1003437 non-null  float64\n",
      " 21  Crm Cd 2        69118 non-null    float64\n",
      " 22  Crm Cd 3        2315 non-null     float64\n",
      " 23  Crm Cd 4        64 non-null       float64\n",
      " 24  LOCATION        1003448 non-null  object \n",
      " 25  Cross Street    154113 non-null   object \n",
      " 26  LAT             1003448 non-null  float64\n",
      " 27  LON             1003448 non-null  float64\n",
      "dtypes: float64(8), int64(7), object(13)\n",
      "memory usage: 214.4+ MB\n",
      "None\n",
      "\n",
      "Summary statistics:\n",
      "              DR_NO      TIME OCC          AREA   Rpt Dist No      Part 1-2  \\\n",
      "count  1.003448e+06  1.003448e+06  1.003448e+06  1.003448e+06  1.003448e+06   \n",
      "mean   2.201855e+08  1.339862e+03  1.069201e+01  1.115659e+03  1.400526e+00   \n",
      "std    1.316963e+07  6.511008e+02  6.110398e+00  6.111720e+02  4.900053e-01   \n",
      "min    8.170000e+02  1.000000e+00  1.000000e+00  1.010000e+02  1.000000e+00   \n",
      "25%    2.106163e+08  9.000000e+02  5.000000e+00  5.870000e+02  1.000000e+00   \n",
      "50%    2.209148e+08  1.420000e+03  1.100000e+01  1.139000e+03  1.000000e+00   \n",
      "75%    2.311086e+08  1.900000e+03  1.600000e+01  1.613250e+03  2.000000e+00   \n",
      "max    2.499289e+08  2.359000e+03  2.100000e+01  2.199000e+03  2.000000e+00   \n",
      "\n",
      "             Crm Cd      Vict Age     Premis Cd  Weapon Used Cd      Crm Cd 1  \\\n",
      "count  1.003448e+06  1.003448e+06  1.003432e+06   327140.000000  1.003437e+06   \n",
      "mean   5.002210e+02  2.891332e+01  3.055846e+02      363.926747  4.999812e+02   \n",
      "std    2.053109e+02  2.199538e+01  2.193049e+02      123.741326  2.051113e+02   \n",
      "min    1.100000e+02 -4.000000e+00  1.010000e+02      101.000000  1.100000e+02   \n",
      "25%    3.310000e+02  0.000000e+00  1.010000e+02      311.000000  3.310000e+02   \n",
      "50%    4.420000e+02  3.000000e+01  2.030000e+02      400.000000  4.420000e+02   \n",
      "75%    6.260000e+02  4.400000e+01  5.010000e+02      400.000000  6.260000e+02   \n",
      "max    9.560000e+02  1.200000e+02  9.760000e+02      516.000000  9.560000e+02   \n",
      "\n",
      "           Crm Cd 2     Crm Cd 3   Crm Cd 4           LAT           LON  \n",
      "count  69118.000000  2315.000000   64.00000  1.003448e+06  1.003448e+06  \n",
      "mean     958.118233   984.022030  991.21875  3.399810e+01 -1.180905e+02  \n",
      "std      110.364802    52.340476   27.06985  1.611942e+00  5.586665e+00  \n",
      "min      210.000000   310.000000  821.00000  0.000000e+00 -1.186676e+02  \n",
      "25%      998.000000   998.000000  998.00000  3.401470e+01 -1.184305e+02  \n",
      "50%      998.000000   998.000000  998.00000  3.405890e+01 -1.183225e+02  \n",
      "75%      998.000000   998.000000  998.00000  3.416490e+01 -1.182739e+02  \n",
      "max      999.000000   999.000000  999.00000  3.433430e+01  0.000000e+00  \n"
     ]
    }
   ],
   "source": [
    "print(\"Dataset Overview:\")\n",
    "print(data.info())\n",
    "print(\"\\nSummary statistics:\")\n",
    "print(data.describe())"
   ]
  },
  {
   "cell_type": "code",
   "execution_count": 13,
   "id": "bc90c495-6b15-47ce-b16a-fe208d314f8b",
   "metadata": {},
   "outputs": [
    {
     "name": "stdout",
     "output_type": "stream",
     "text": [
      "\n",
      "Missing Data Count:\n",
      "DR_NO                   0\n",
      "Date Rptd               0\n",
      "DATE OCC                0\n",
      "TIME OCC                0\n",
      "AREA                    0\n",
      "AREA NAME               0\n",
      "Rpt Dist No             0\n",
      "Part 1-2                0\n",
      "Crm Cd                  0\n",
      "Crm Cd Desc             0\n",
      "Mocodes            151567\n",
      "Vict Age                0\n",
      "Vict Sex           144592\n",
      "Vict Descent       144604\n",
      "Premis Cd              16\n",
      "Premis Desc           588\n",
      "Weapon Used Cd     676308\n",
      "Weapon Desc        676308\n",
      "Status                  1\n",
      "Status Desc             0\n",
      "Crm Cd 1               11\n",
      "Crm Cd 2           934330\n",
      "Crm Cd 3          1001133\n",
      "Crm Cd 4          1003384\n",
      "LOCATION                0\n",
      "Cross Street       849335\n",
      "LAT                     0\n",
      "LON                     0\n",
      "dtype: int64\n"
     ]
    }
   ],
   "source": [
    "print(\"\\nMissing Data Count:\")\n",
    "print(data.isnull().sum())"
   ]
  },
  {
   "cell_type": "code",
   "execution_count": 19,
   "id": "50950e84-200e-4389-9ac3-9164255af517",
   "metadata": {},
   "outputs": [],
   "source": [
    "threshold = 0.5  \n",
    "data = data.dropna(thresh=int(data.shape[0] * threshold), axis=1)\n",
    "num_cols = data.select_dtypes(include=['float64', 'int64']).columns\n",
    "data[num_cols] = data[num_cols].fillna(data[num_cols].mean())"
   ]
  },
  {
   "cell_type": "code",
   "execution_count": 23,
   "id": "19ebee33-9a16-4d25-90d0-f5b0f69fef45",
   "metadata": {},
   "outputs": [
    {
     "name": "stdout",
     "output_type": "stream",
     "text": [
      "\n",
      "Missing Data After Handling:\n",
      "DR_NO           0\n",
      "Date Rptd       0\n",
      "DATE OCC        0\n",
      "TIME OCC        0\n",
      "AREA            0\n",
      "AREA NAME       0\n",
      "Rpt Dist No     0\n",
      "Part 1-2        0\n",
      "Crm Cd          0\n",
      "Crm Cd Desc     0\n",
      "Mocodes         0\n",
      "Vict Age        0\n",
      "Vict Sex        0\n",
      "Vict Descent    0\n",
      "Premis Cd       0\n",
      "Premis Desc     0\n",
      "Status          0\n",
      "Status Desc     0\n",
      "Crm Cd 1        0\n",
      "LOCATION        0\n",
      "LAT             0\n",
      "LON             0\n",
      "dtype: int64\n"
     ]
    }
   ],
   "source": [
    "cat_cols = data.select_dtypes(include=['object']).columns\n",
    "data[cat_cols] = data[cat_cols].fillna(data[cat_cols].mode().iloc[0])\n",
    "\n",
    "print(\"\\nMissing Data After Handling:\")\n",
    "print(data.isnull().sum())"
   ]
  },
  {
   "cell_type": "code",
   "execution_count": 37,
   "id": "f0d86d8f-66e0-4935-bfdf-cc6d5b9f36bb",
   "metadata": {},
   "outputs": [],
   "source": [
    "from sklearn.preprocessing import StandardScaler\n",
    "scaler = StandardScaler()"
   ]
  },
  {
   "cell_type": "code",
   "execution_count": 39,
   "id": "861a456b-d12b-4e36-8881-6e100994594f",
   "metadata": {},
   "outputs": [],
   "source": [
    "data[num_cols] = scaler.fit_transform(data[num_cols])\n"
   ]
  },
  {
   "cell_type": "code",
   "execution_count": null,
   "id": "5568d248-97bb-4a8e-98c9-acfef2ce2496",
   "metadata": {},
   "outputs": [],
   "source": [
    "output_path = \"C:\\\\Users\\\\SHAFINA JALEEL\\\\OneDrive\\\\Desktop\\\\THANZEER\\\\Project\\\\Crime_Data_from_2020_to_Present.csv\"\n",
    "data.to_csv(output_path, index=False)\n",
    "print(f\"Preprocessed data saved to {output_path}\")"
   ]
  },
  {
   "cell_type": "code",
   "execution_count": null,
   "id": "6d4d30ce-d169-4f5f-9e3a-7614f43f1649",
   "metadata": {},
   "outputs": [],
   "source": []
  }
 ],
 "metadata": {
  "kernelspec": {
   "display_name": "Python 3 (ipykernel)",
   "language": "python",
   "name": "python3"
  },
  "language_info": {
   "codemirror_mode": {
    "name": "ipython",
    "version": 3
   },
   "file_extension": ".py",
   "mimetype": "text/x-python",
   "name": "python",
   "nbconvert_exporter": "python",
   "pygments_lexer": "ipython3",
   "version": "3.12.7"
  }
 },
 "nbformat": 4,
 "nbformat_minor": 5
}
